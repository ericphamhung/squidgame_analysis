{
 "cells": [
  {
   "cell_type": "markdown",
   "id": "d3075a66-4362-4eda-ace6-3ca31225683b",
   "metadata": {},
   "source": [
    "# squidgames glass bridge screen\n",
    "### 16 players, 18 steps, \n",
    "### players must cross all 18 steps in order to live\n",
    "### players can memorize the correct step ahead of them\n",
    "### players cannot commit suicide\n",
    "### players cannot pass each other"
   ]
  },
  {
   "cell_type": "code",
   "execution_count": 1,
   "id": "dd522d8f-c516-4af6-b997-618d314d06ee",
   "metadata": {},
   "outputs": [],
   "source": [
    "# importing required libraries\n",
    "\n",
    "import random\n",
    "import pandas as pd\n",
    "import matplotlib.pyplot as plt\n",
    "from tqdm import tqdm\n",
    "import numpy as np\n",
    "\n",
    "from matplotlib.ticker import PercentFormatter\n",
    "\n",
    "\n",
    "plt.style.use('dark_background')\n"
   ]
  },
  {
   "cell_type": "code",
   "execution_count": 37,
   "id": "5ad14c54-2583-4942-b935-b8993fda83a3",
   "metadata": {},
   "outputs": [],
   "source": [
    "# game design\n",
    "## assumptions ##\n",
    "# - 16 players, 18 steps\n",
    "# - randomly assigned \"safe\" and \"dangerous\" tiles\n",
    "# - players will memorize the course\n",
    "# - players cannot commit suicide\n",
    "\n",
    "\n",
    "class Player:\n",
    "    \"Player piece\"\n",
    "    def __init__(self, player_position, total_steps=18):\n",
    "        self.bridge_position = 0 # where this player is on the bridge\n",
    "        self.player_position = player_position # where this player is in the sequence\n",
    "        self.leader = False # if this player is in the lead\n",
    "        self.alive = True # if this player is still alive\n",
    "        self.active = True\n",
    "        self.survived = False\n",
    "        self.total_steps = total_steps\n",
    "\n",
    "\n",
    "    def lead_step(self):\n",
    "        if self.alive==True and self.active==True:\n",
    "            if self.bridge_position <= self.total_steps:\n",
    "                self.bridge_position +=1\n",
    "                self.side_choice = random.choice(['a','b'])\n",
    "            else:\n",
    "                self.active=False\n",
    "                \n",
    "                    \n",
    "class Tile:\n",
    "    \"Tile Piece\"\n",
    "    def __init__(self, step, side, safe=True):\n",
    "        self.side=side\n",
    "        self.step=step\n",
    "        self.safe=safe\n",
    "\n",
    "class Bridge:    \n",
    "    def __init__(self):\n",
    "        self.name=''\n",
    "        \n",
    "    def draw_bridge(self, total_steps=18):\n",
    "        \"\"\"Reinitializes the bridge sequence\"\"\"\n",
    "        self.bridge=[]\n",
    "        self.total_steps=total_steps\n",
    "        side = ['a','b']\n",
    "        step = [i for i in range(1,self.total_steps+1)]\n",
    "        for s in step:\n",
    "            for d in side:\n",
    "                if d=='a':\n",
    "                    safe = random.choice([True, False])\n",
    "                else:\n",
    "                    if safe==True:\n",
    "                        safe=False\n",
    "                    else:\n",
    "                        safe = True\n",
    "                self.bridge.append(Tile(s,d,safe))\n",
    "\n",
    "\n",
    "class Game:\n",
    "    def __init__(self,game_number, total_steps=18, total_players = 16):\n",
    "        self.game_numnber = game_number\n",
    "        self.bridge = Bridge()\n",
    "        self.total_steps=total_steps\n",
    "        self.total_players = total_players\n",
    "        \n",
    "    def setup_game(self):\n",
    "        \"Initializes the game\"\n",
    "        self.bridge.draw_bridge(self.total_steps)\n",
    "        self.glass_bridge = {}\n",
    "        for tile in self.bridge.bridge:\n",
    "            self.glass_bridge[str(tile.step)+tile.side]=tile.safe\n",
    "\n",
    "        \n",
    "        self.players = [Player(i,self.total_steps) for i in range(1,self.total_players+1)]\n",
    "        \n",
    "    def play_game(self):\n",
    "        memory=0\n",
    "        self.results = {}\n",
    "        \n",
    "        for player in self.players:\n",
    "            player.bridge_position = memory\n",
    "#             print('Player ', player.player_position)            \n",
    "\n",
    "            if memory < self.total_steps:\n",
    "            \n",
    "\n",
    "                while player.alive==True and player.active==True and player.bridge_position<=self.total_steps:\n",
    "                    if player.bridge_position < self.total_steps:\n",
    "                        player.lead_step()\n",
    "                        tile_choice = str(player.bridge_position) + player.side_choice\n",
    "#                         print(tile_choice)\n",
    "\n",
    "                        if self.glass_bridge[tile_choice]==False:\n",
    "                            player.alive=False\n",
    "                            self.results[player.player_position] = player.survived\n",
    "\n",
    "                        memory+=1\n",
    "\n",
    "#                         print(player.alive)\n",
    "\n",
    "                    elif player.bridge_position == self.total_steps:\n",
    "                        player.survived=True\n",
    "                        player.bridge_position += 1\n",
    "#                         print(player.alive)\n",
    "                        self.results[player.player_position] = player.survived\n",
    "#                         pass\n",
    "                    \n",
    "            else:\n",
    "                \n",
    "                player.survived=True\n",
    "                self.results[player.player_position] = player.survived                \n",
    "#                 print(player.alive)\n",
    "                pass\n",
    "    \n"
   ]
  },
  {
   "cell_type": "code",
   "execution_count": 45,
   "id": "d00a46c5-6360-468a-96c5-4c8bfc3a4eb8",
   "metadata": {},
   "outputs": [
    {
     "name": "stderr",
     "output_type": "stream",
     "text": [
      "100%|██████████| 100000/100000 [00:06<00:00, 14289.25it/s]\n"
     ]
    }
   ],
   "source": [
    "# simulate 100,000 games and gather statistics\n",
    "\n",
    "number_of_players = 16\n",
    "total_steps = 18\n",
    "\n",
    "all_results = []\n",
    "for i in tqdm(range(100_000)):\n",
    "#     print(i)\n",
    "    game=Game(i,total_steps=total_steps, total_players=number_of_players)\n",
    "    game.setup_game()\n",
    "    game.play_game()\n",
    "    all_results.append(game.results)\n",
    "\n",
    "summary = []\n",
    "for result in all_results:\n",
    "    if sum(value==False for value in result.values())<number_of_players:\n",
    "        summary.append(sum(value==False for value in result.values())+1)\n",
    "#     else:\n",
    "#         summary.append(0)\n",
    "    \n",
    "\n",
    "myDict = {}\n",
    "first_Dict={}\n",
    "for i in range(1,number_of_players+1):\n",
    "    myDict[i] = {}    \n",
    "    myDict[i] = summary.count(i)\n",
    "\n",
    "    first_Dict[i]={}\n",
    "    first_Dict[i]= summary.count(i)\n",
    "    try:\n",
    "        myDict[i] += myDict[i-1]\n",
    "    except:\n",
    "        pass\n"
   ]
  },
  {
   "cell_type": "code",
   "execution_count": 46,
   "id": "959dfbde-6f95-4af5-8bb9-ceef8546d94e",
   "metadata": {},
   "outputs": [],
   "source": [
    "# all_results\n",
    "# summary\n",
    "# test\n",
    "# first_Dict\n",
    "# myDict"
   ]
  },
  {
   "cell_type": "code",
   "execution_count": 47,
   "id": "80abf44d-46dc-42d6-b9f9-8069c2c4f2be",
   "metadata": {},
   "outputs": [
    {
     "data": {
      "image/png": "[encoded data removed]",
      "text/plain": [
       "<Figure size 720x360 with 1 Axes>"
      ]
     },
     "metadata": {},
     "output_type": "display_data"
    }
   ],
   "source": [
    "# plotting miniminum survival\n",
    "\n",
    "df = pd.DataFrame.from_dict(first_Dict, orient='index')\n",
    "plt.figure(figsize=(10,5))\n",
    "plt.bar([str(i) for i in df.index], df[0]/100_000)\n",
    "plt.gca().set(title='Earliest Player Position to Win', ylabel='Frequency', xlabel='Player Position')\n",
    "plt.gca().yaxis.set_major_formatter(PercentFormatter(1))\n",
    "plt.tight_layout()\n",
    "plt.savefig('minimal.png', bbox_inches='tight', dpi = 300)\n",
    "plt.show()\n"
   ]
  },
  {
   "cell_type": "code",
   "execution_count": 55,
   "id": "58c5aef7-8cfe-42e5-b7a9-d05e4344cd11",
   "metadata": {},
   "outputs": [
    {
     "data": {
      "image/png": "[encoded data removed]",
      "text/plain": [
       "<Figure size 720x360 with 1 Axes>"
      ]
     },
     "metadata": {},
     "output_type": "display_data"
    }
   ],
   "source": [
    "# plotting survival curve\n",
    "\n",
    "df = pd.DataFrame.from_dict(myDict, orient='index')\n",
    "plt.figure(figsize=(10,5))\n",
    "plt.bar([str(i) for i in df.index], df[0]/100_000)\n",
    "plt.gca().set(title='Probability of Survival Based on Player Position', ylabel='Probability', xlabel='Player Position')\n",
    "plt.gca().yaxis.set_major_formatter(PercentFormatter(1))\n",
    "plt.axhline(y=0.95, color = 'red')\n",
    "plt.annotate(\"95% survival threshold\", (0,0.97), color='red')\n",
    "plt.tight_layout()\n",
    "plt.savefig('survival.png', bbox_inches='tight', dpi = 300)\n",
    "\n",
    "\n",
    "plt.show()"
   ]
  },
  {
   "cell_type": "code",
   "execution_count": 49,
   "id": "a4e00ee6-5be1-4c44-9328-90ca5d2b1e5b",
   "metadata": {},
   "outputs": [
    {
     "data": {
      "text/html": [
       "<div>\n",
       "<style scoped>\n",
       "    .dataframe tbody tr th:only-of-type {\n",
       "        vertical-align: middle;\n",
       "    }\n",
       "\n",
       "    .dataframe tbody tr th {\n",
       "        vertical-align: top;\n",
       "    }\n",
       "\n",
       "    .dataframe thead th {\n",
       "        text-align: right;\n",
       "    }\n",
       "</style>\n",
       "<table border=\"1\" class=\"dataframe\">\n",
       "  <thead>\n",
       "    <tr style=\"text-align: right;\">\n",
       "      <th></th>\n",
       "      <th>0</th>\n",
       "      <th>survival</th>\n",
       "    </tr>\n",
       "  </thead>\n",
       "  <tbody>\n",
       "    <tr>\n",
       "      <th>1</th>\n",
       "      <td>0</td>\n",
       "      <td>0.0</td>\n",
       "    </tr>\n",
       "    <tr>\n",
       "      <th>2</th>\n",
       "      <td>6</td>\n",
       "      <td>6.0</td>\n",
       "    </tr>\n",
       "    <tr>\n",
       "      <th>3</th>\n",
       "      <td>72</td>\n",
       "      <td>72.0</td>\n",
       "    </tr>\n",
       "    <tr>\n",
       "      <th>4</th>\n",
       "      <td>381</td>\n",
       "      <td>381.0</td>\n",
       "    </tr>\n",
       "    <tr>\n",
       "      <th>5</th>\n",
       "      <td>1579</td>\n",
       "      <td>1579.0</td>\n",
       "    </tr>\n",
       "    <tr>\n",
       "      <th>6</th>\n",
       "      <td>4749</td>\n",
       "      <td>4749.0</td>\n",
       "    </tr>\n",
       "    <tr>\n",
       "      <th>7</th>\n",
       "      <td>11807</td>\n",
       "      <td>11807.0</td>\n",
       "    </tr>\n",
       "    <tr>\n",
       "      <th>8</th>\n",
       "      <td>23874</td>\n",
       "      <td>23874.0</td>\n",
       "    </tr>\n",
       "    <tr>\n",
       "      <th>9</th>\n",
       "      <td>40529</td>\n",
       "      <td>40529.0</td>\n",
       "    </tr>\n",
       "    <tr>\n",
       "      <th>10</th>\n",
       "      <td>59107</td>\n",
       "      <td>59107.0</td>\n",
       "    </tr>\n",
       "    <tr>\n",
       "      <th>11</th>\n",
       "      <td>75890</td>\n",
       "      <td>75890.0</td>\n",
       "    </tr>\n",
       "    <tr>\n",
       "      <th>12</th>\n",
       "      <td>87996</td>\n",
       "      <td>87996.0</td>\n",
       "    </tr>\n",
       "    <tr>\n",
       "      <th>13</th>\n",
       "      <td>95136</td>\n",
       "      <td>95136.0</td>\n",
       "    </tr>\n",
       "    <tr>\n",
       "      <th>14</th>\n",
       "      <td>98394</td>\n",
       "      <td>98394.0</td>\n",
       "    </tr>\n",
       "    <tr>\n",
       "      <th>15</th>\n",
       "      <td>99615</td>\n",
       "      <td>99615.0</td>\n",
       "    </tr>\n",
       "    <tr>\n",
       "      <th>16</th>\n",
       "      <td>99939</td>\n",
       "      <td>99939.0</td>\n",
       "    </tr>\n",
       "  </tbody>\n",
       "</table>\n",
       "</div>"
      ],
      "text/plain": [
       "        0  survival\n",
       "1       0       0.0\n",
       "2       6       6.0\n",
       "3      72      72.0\n",
       "4     381     381.0\n",
       "5    1579    1579.0\n",
       "6    4749    4749.0\n",
       "7   11807   11807.0\n",
       "8   23874   23874.0\n",
       "9   40529   40529.0\n",
       "10  59107   59107.0\n",
       "11  75890   75890.0\n",
       "12  87996   87996.0\n",
       "13  95136   95136.0\n",
       "14  98394   98394.0\n",
       "15  99615   99615.0\n",
       "16  99939   99939.0"
      ]
     },
     "execution_count": 49,
     "metadata": {},
     "output_type": "execute_result"
    }
   ],
   "source": [
    "df['survival']=(df[0]/100)*100\n",
    "df"
   ]
  },
  {
   "cell_type": "code",
   "execution_count": 57,
   "id": "bd9ed08b-e72f-497f-9b38-11fe39254ebd",
   "metadata": {},
   "outputs": [
    {
     "name": "stderr",
     "output_type": "stream",
     "text": [
      "100%|██████████| 100000/100000 [00:38<00:00, 2586.32it/s]\n"
     ]
    },
    {
     "data": {
      "text/plain": [
       "59"
      ]
     },
     "execution_count": 57,
     "metadata": {},
     "output_type": "execute_result"
    }
   ],
   "source": [
    "total_steps = 100\n",
    "number_of_players = total_steps\n",
    "\n",
    "\n",
    "all_results = []\n",
    "for i in tqdm(range(100_000)):\n",
    "#     print(i)\n",
    "    game=Game(i,total_steps=total_steps, total_players=number_of_players)\n",
    "    game.setup_game()\n",
    "    game.play_game()\n",
    "    all_results.append(game.results)\n",
    "\n",
    "summary = []\n",
    "for result in all_results:\n",
    "    if sum(value==False for value in result.values())<number_of_players:\n",
    "        summary.append(sum(value==False for value in result.values())+1)\n",
    "#     else:\n",
    "#         summary.append(0)\n",
    "\n",
    "\n",
    "myDict = {}\n",
    "for i in range(1,number_of_players+1):\n",
    "    myDict[i] = {}    \n",
    "    myDict[i] = summary.count(i)\n",
    "    try:\n",
    "        myDict[i] += myDict[i-1]\n",
    "    except:\n",
    "        pass\n",
    "\n",
    "df = pd.DataFrame.from_dict(myDict, orient='index')\n",
    "df['survival']=(df[0]/100_000)*100\n",
    "\n",
    "\n",
    "# optimal\n",
    "# df\n",
    "optimal = df.index[df['survival']> 95].to_list()[0]\n",
    "optimal\n"
   ]
  },
  {
   "cell_type": "code",
   "execution_count": 59,
   "id": "5099954b-f9cc-4475-91c9-4ef1dfc6e53e",
   "metadata": {},
   "outputs": [
    {
     "data": {
      "image/png": "[encoded data removed]",
      "text/plain": [
       "<Figure size 720x360 with 1 Axes>"
      ]
     },
     "metadata": {},
     "output_type": "display_data"
    }
   ],
   "source": [
    "\n",
    "plt.figure(figsize=(10,5))\n",
    "plt.plot(df['survival'])\n",
    "plt.gca().set(title='Probability of Survival Based on Player Position : 100 steps', ylabel='Probability', xlabel='Player Position')\n",
    "plt.axvline(x=optimal, color = 'red')\n",
    "plt.annotate(\"Optimal Player Position : {}\".format(optimal), (60,1), color='red')\n",
    "plt.tight_layout()\n",
    "plt.savefig('survival100.png', bbox_inches='tight', dpi = 300)\n",
    "plt.show()\n"
   ]
  },
  {
   "cell_type": "markdown",
   "id": "10175613-acd6-4747-ab11-c399d4131623",
   "metadata": {},
   "source": [
    "f (number of players, number of steps) = position for 95% survability"
   ]
  },
  {
   "cell_type": "code",
   "execution_count": 27,
   "id": "d819f267-3a4b-47c1-8a49-015fb0298314",
   "metadata": {},
   "outputs": [
    {
     "name": "stderr",
     "output_type": "stream",
     "text": [
      "100%|██████████| 455/455 [07:09<00:00,  1.06it/s]\n"
     ]
    }
   ],
   "source": [
    "# simulate to find optimal curve\n",
    "\n",
    "results={}\n",
    "\n",
    "for steps in tqdm(range(1,456)):\n",
    "    try:\n",
    "        total_steps = steps\n",
    "        number_of_players = total_steps\n",
    "\n",
    "\n",
    "        all_results = []\n",
    "        for i in range(1000):\n",
    "        #     print(i)\n",
    "            game=Game(i,total_steps=total_steps, total_players=number_of_players)\n",
    "            game.setup_game()\n",
    "            game.play_game()\n",
    "            all_results.append(game.results)\n",
    "\n",
    "        summary = []\n",
    "        for result in all_results:\n",
    "            if sum(value==False for value in result.values())<number_of_players:\n",
    "                summary.append(sum(value==False for value in result.values())+1)\n",
    "        #     else:\n",
    "        #         summary.append(0)\n",
    "\n",
    "\n",
    "        myDict = {}\n",
    "        for i in range(1,number_of_players+1):\n",
    "            myDict[i] = {}    \n",
    "            myDict[i] = summary.count(i)\n",
    "            try:\n",
    "                myDict[i] += myDict[i-1]\n",
    "            except:\n",
    "                pass\n",
    "\n",
    "        df = pd.DataFrame.from_dict(myDict, orient='index')\n",
    "        df['survival']=(df[0]/1000)*100\n",
    "\n",
    "        optimal = df.index[df['survival']> 95].tolist()[0]\n",
    "        optimal\n",
    "\n",
    "        results[steps]=optimal\n",
    "    \n",
    "    except:\n",
    "        pass"
   ]
  },
  {
   "cell_type": "code",
   "execution_count": 28,
   "id": "ff248550-8a29-49d1-b74a-e3cd44a706be",
   "metadata": {},
   "outputs": [],
   "source": [
    "df2 = pd.DataFrame.from_dict(results, orient='index')"
   ]
  },
  {
   "cell_type": "code",
   "execution_count": 29,
   "id": "d8db4198-cf46-4fe8-9961-6a5ba0e26f58",
   "metadata": {},
   "outputs": [],
   "source": [
    "x = np.array(df2.index)\n",
    "y = np.array(df2[0])\n",
    "m, b = np.polyfit(x, y, 1)\n"
   ]
  },
  {
   "cell_type": "code",
   "execution_count": 40,
   "id": "55bebdd8-475f-408e-b4b8-f2beeb42b993",
   "metadata": {},
   "outputs": [
    {
     "data": {
      "image/png": "[encoded data removed]",
      "text/plain": [
       "<Figure size 720x360 with 1 Axes>"
      ]
     },
     "metadata": {},
     "output_type": "display_data"
    }
   ],
   "source": [
    "plt.figure(figsize=(10,5))\n",
    "plt.plot(x, y, '.', alpha=0.5)\n",
    "plt.plot(x, m*x + b, color='red')\n",
    "plt.gca().set(title='Relationship Between Optimal Player Position \\nand Number of Steps on Bridge', ylabel='Optimal Player Position', xlabel='Number of Steps')\n",
    "plt.savefig('relationship.png', bbox_inches='tight', dpi = 300)\n",
    "plt.show()"
   ]
  },
  {
   "cell_type": "code",
   "execution_count": 31,
   "id": "c18fff73-d28d-4681-b73b-bc7930bdcf03",
   "metadata": {},
   "outputs": [
    {
     "data": {
      "text/plain": [
       "0.5301834664364344"
      ]
     },
     "execution_count": 31,
     "metadata": {},
     "output_type": "execute_result"
    }
   ],
   "source": [
    "m"
   ]
  },
  {
   "cell_type": "code",
   "execution_count": 32,
   "id": "cc4f73bf-f50c-4fac-8b26-37ea3f607a28",
   "metadata": {},
   "outputs": [
    {
     "data": {
      "text/plain": [
       "5.833855934697729"
      ]
     },
     "execution_count": 32,
     "metadata": {},
     "output_type": "execute_result"
    }
   ],
   "source": [
    "b"
   ]
  },
  {
   "cell_type": "markdown",
   "id": "c042f6b7-297b-4c1e-aeb6-1947671c38c2",
   "metadata": {},
   "source": [
    "**optimal position = 0.53\\*(number of steps) + 5.8**"
   ]
  },
  {
   "cell_type": "code",
   "execution_count": null,
   "id": "9c544938-27f7-412c-b234-e7699f2e2e89",
   "metadata": {},
   "outputs": [],
   "source": []
  }
 ],
 "metadata": {
  "kernelspec": {
   "display_name": "Python 3",
   "language": "python",
   "name": "python3"
  },
  "language_info": {
   "codemirror_mode": {
    "name": "ipython",
    "version": 3
   },
   "file_extension": ".py",
   "mimetype": "text/x-python",
   "name": "python",
   "nbconvert_exporter": "python",
   "pygments_lexer": "ipython3",
   "version": "3.8.8"
  }
 },
 "nbformat": 4,
 "nbformat_minor": 5
}
